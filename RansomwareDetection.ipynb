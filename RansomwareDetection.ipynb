{
 "cells": [
  {
   "cell_type": "code",
   "execution_count": 1,
   "metadata": {},
   "outputs": [],
   "source": [
    "import warnings\n",
    "warnings.filterwarnings('ignore')"
   ]
  },
  {
   "cell_type": "code",
   "execution_count": null,
   "metadata": {},
   "outputs": [],
   "source": [
    "#importing pythom classes and packages\n",
    "import numpy as np\n",
    "import pandas as pd\n",
    "import seaborn as sns\n",
    "from sklearn.preprocessing import LabelEncoder\n",
    "import os\n",
    "from keras.callbacks import ModelCheckpoint \n",
    "import pickle\n",
    "from keras.layers import LSTM #load LSTM class\n",
    "from keras.utils.np_utils import to_categorical\n",
    "from keras.layers import  MaxPooling2D\n",
    "from keras.layers import Dense, Dropout, Activation, Flatten #load DNN dense layers\n",
    "from keras.layers import Convolution2D #load CNN model\n",
    "from keras.models import Sequential, Model\n",
    "from sklearn.preprocessing import MinMaxScaler\n",
    "from sklearn.metrics import accuracy_score\n",
    "from sklearn.model_selection import train_test_split\n",
    "from sklearn.feature_selection import RFECV\n",
    "from sklearn.svm import SVR\n",
    "from sklearn.metrics import precision_score\n",
    "from sklearn.metrics import recall_score\n",
    "from sklearn.metrics import f1_score\n",
    "from sklearn.metrics import confusion_matrix\n",
    "import matplotlib.pyplot as plt\n",
    "from xgboost import XGBClassifier #load ML classes\n",
    "from sklearn.neighbors import KNeighborsClassifier\n",
    "from sklearn.tree import DecisionTreeClassifier\n",
    "from sklearn import svm\n",
    "from sklearn.ensemble import RandomForestClassifier\n"
   ]
  },
  {
   "cell_type": "code",
   "execution_count": null,
   "metadata": {},
   "outputs": [],
   "source": [
    "#define minmax object for features normalization\n",
    "scaler = MinMaxScaler(feature_range = (0, 1)) #use to normalize training data"
   ]
  },
  {
   "cell_type": "code",
   "execution_count": null,
   "metadata": {},
   "outputs": [
    {
     "data": {
      "text/html": [
       "<div>\n",
       "<style scoped>\n",
       "    .dataframe tbody tr th:only-of-type {\n",
       "        vertical-align: middle;\n",
       "    }\n",
       "\n",
       "    .dataframe tbody tr th {\n",
       "        vertical-align: top;\n",
       "    }\n",
       "\n",
       "    .dataframe thead th {\n",
       "        text-align: right;\n",
       "    }\n",
       "</style>\n",
       "<table border=\"1\" class=\"dataframe\">\n",
       "  <thead>\n",
       "    <tr style=\"text-align: right;\">\n",
       "      <th></th>\n",
       "      <th>instructions</th>\n",
       "      <th>LLC-stores</th>\n",
       "      <th>L1-icache-load-misses</th>\n",
       "      <th>branch-load-misses</th>\n",
       "      <th>node-load-misses</th>\n",
       "      <th>rd_req</th>\n",
       "      <th>rd_bytes</th>\n",
       "      <th>wr_req</th>\n",
       "      <th>wr_bytes</th>\n",
       "      <th>flush_operations</th>\n",
       "      <th>rd_total_times</th>\n",
       "      <th>wr_total_times</th>\n",
       "      <th>flush_total_times</th>\n",
       "      <th>label</th>\n",
       "    </tr>\n",
       "  </thead>\n",
       "  <tbody>\n",
       "    <tr>\n",
       "      <th>0</th>\n",
       "      <td>77556160.0</td>\n",
       "      <td>9575.0</td>\n",
       "      <td>257517.0</td>\n",
       "      <td>215949.0</td>\n",
       "      <td>0.0</td>\n",
       "      <td>0</td>\n",
       "      <td>0</td>\n",
       "      <td>8</td>\n",
       "      <td>147456</td>\n",
       "      <td>4</td>\n",
       "      <td>0</td>\n",
       "      <td>3596349</td>\n",
       "      <td>4524778</td>\n",
       "      <td>1</td>\n",
       "    </tr>\n",
       "    <tr>\n",
       "      <th>1</th>\n",
       "      <td>32981037.0</td>\n",
       "      <td>16800.0</td>\n",
       "      <td>797990.0</td>\n",
       "      <td>140417.0</td>\n",
       "      <td>2.0</td>\n",
       "      <td>0</td>\n",
       "      <td>0</td>\n",
       "      <td>0</td>\n",
       "      <td>0</td>\n",
       "      <td>0</td>\n",
       "      <td>0</td>\n",
       "      <td>0</td>\n",
       "      <td>0</td>\n",
       "      <td>1</td>\n",
       "    </tr>\n",
       "    <tr>\n",
       "      <th>2</th>\n",
       "      <td>11049222.0</td>\n",
       "      <td>5302.0</td>\n",
       "      <td>204689.0</td>\n",
       "      <td>55819.0</td>\n",
       "      <td>0.0</td>\n",
       "      <td>0</td>\n",
       "      <td>0</td>\n",
       "      <td>0</td>\n",
       "      <td>0</td>\n",
       "      <td>0</td>\n",
       "      <td>0</td>\n",
       "      <td>0</td>\n",
       "      <td>0</td>\n",
       "      <td>1</td>\n",
       "    </tr>\n",
       "    <tr>\n",
       "      <th>3</th>\n",
       "      <td>4968323.0</td>\n",
       "      <td>5252.0</td>\n",
       "      <td>188982.0</td>\n",
       "      <td>34310.0</td>\n",
       "      <td>0.0</td>\n",
       "      <td>0</td>\n",
       "      <td>0</td>\n",
       "      <td>0</td>\n",
       "      <td>0</td>\n",
       "      <td>0</td>\n",
       "      <td>0</td>\n",
       "      <td>0</td>\n",
       "      <td>0</td>\n",
       "      <td>1</td>\n",
       "    </tr>\n",
       "    <tr>\n",
       "      <th>4</th>\n",
       "      <td>15314480.0</td>\n",
       "      <td>11345.0</td>\n",
       "      <td>601098.0</td>\n",
       "      <td>112428.0</td>\n",
       "      <td>0.0</td>\n",
       "      <td>0</td>\n",
       "      <td>0</td>\n",
       "      <td>0</td>\n",
       "      <td>0</td>\n",
       "      <td>0</td>\n",
       "      <td>0</td>\n",
       "      <td>0</td>\n",
       "      <td>0</td>\n",
       "      <td>1</td>\n",
       "    </tr>\n",
       "    <tr>\n",
       "      <th>...</th>\n",
       "      <td>...</td>\n",
       "      <td>...</td>\n",
       "      <td>...</td>\n",
       "      <td>...</td>\n",
       "      <td>...</td>\n",
       "      <td>...</td>\n",
       "      <td>...</td>\n",
       "      <td>...</td>\n",
       "      <td>...</td>\n",
       "      <td>...</td>\n",
       "      <td>...</td>\n",
       "      <td>...</td>\n",
       "      <td>...</td>\n",
       "      <td>...</td>\n",
       "    </tr>\n",
       "    <tr>\n",
       "      <th>5995</th>\n",
       "      <td>58694891.0</td>\n",
       "      <td>1827.0</td>\n",
       "      <td>9147.0</td>\n",
       "      <td>468151.0</td>\n",
       "      <td>0.0</td>\n",
       "      <td>0</td>\n",
       "      <td>0</td>\n",
       "      <td>0</td>\n",
       "      <td>0</td>\n",
       "      <td>0</td>\n",
       "      <td>0</td>\n",
       "      <td>0</td>\n",
       "      <td>0</td>\n",
       "      <td>0</td>\n",
       "    </tr>\n",
       "    <tr>\n",
       "      <th>5996</th>\n",
       "      <td>51471771.0</td>\n",
       "      <td>863.0</td>\n",
       "      <td>3740.0</td>\n",
       "      <td>521066.0</td>\n",
       "      <td>0.0</td>\n",
       "      <td>0</td>\n",
       "      <td>0</td>\n",
       "      <td>0</td>\n",
       "      <td>0</td>\n",
       "      <td>0</td>\n",
       "      <td>0</td>\n",
       "      <td>0</td>\n",
       "      <td>0</td>\n",
       "      <td>0</td>\n",
       "    </tr>\n",
       "    <tr>\n",
       "      <th>5997</th>\n",
       "      <td>49304168.0</td>\n",
       "      <td>5280.0</td>\n",
       "      <td>12560.0</td>\n",
       "      <td>480046.0</td>\n",
       "      <td>0.0</td>\n",
       "      <td>0</td>\n",
       "      <td>0</td>\n",
       "      <td>2</td>\n",
       "      <td>28672</td>\n",
       "      <td>1</td>\n",
       "      <td>0</td>\n",
       "      <td>503895</td>\n",
       "      <td>2094439</td>\n",
       "      <td>0</td>\n",
       "    </tr>\n",
       "    <tr>\n",
       "      <th>5998</th>\n",
       "      <td>55666764.0</td>\n",
       "      <td>13175.0</td>\n",
       "      <td>53589.0</td>\n",
       "      <td>529373.0</td>\n",
       "      <td>0.0</td>\n",
       "      <td>0</td>\n",
       "      <td>0</td>\n",
       "      <td>0</td>\n",
       "      <td>0</td>\n",
       "      <td>0</td>\n",
       "      <td>0</td>\n",
       "      <td>0</td>\n",
       "      <td>0</td>\n",
       "      <td>0</td>\n",
       "    </tr>\n",
       "    <tr>\n",
       "      <th>5999</th>\n",
       "      <td>50258111.0</td>\n",
       "      <td>5596.0</td>\n",
       "      <td>58048.0</td>\n",
       "      <td>526161.0</td>\n",
       "      <td>3.0</td>\n",
       "      <td>0</td>\n",
       "      <td>0</td>\n",
       "      <td>0</td>\n",
       "      <td>0</td>\n",
       "      <td>0</td>\n",
       "      <td>0</td>\n",
       "      <td>0</td>\n",
       "      <td>0</td>\n",
       "      <td>0</td>\n",
       "    </tr>\n",
       "  </tbody>\n",
       "</table>\n",
       "<p>6000 rows × 14 columns</p>\n",
       "</div>"
      ],
      "text/plain": [
       "      instructions  LLC-stores  L1-icache-load-misses  branch-load-misses  \\\n",
       "0       77556160.0      9575.0               257517.0            215949.0   \n",
       "1       32981037.0     16800.0               797990.0            140417.0   \n",
       "2       11049222.0      5302.0               204689.0             55819.0   \n",
       "3        4968323.0      5252.0               188982.0             34310.0   \n",
       "4       15314480.0     11345.0               601098.0            112428.0   \n",
       "...            ...         ...                    ...                 ...   \n",
       "5995    58694891.0      1827.0                 9147.0            468151.0   \n",
       "5996    51471771.0       863.0                 3740.0            521066.0   \n",
       "5997    49304168.0      5280.0                12560.0            480046.0   \n",
       "5998    55666764.0     13175.0                53589.0            529373.0   \n",
       "5999    50258111.0      5596.0                58048.0            526161.0   \n",
       "\n",
       "      node-load-misses  rd_req  rd_bytes  wr_req  wr_bytes  flush_operations  \\\n",
       "0                  0.0       0         0       8    147456                 4   \n",
       "1                  2.0       0         0       0         0                 0   \n",
       "2                  0.0       0         0       0         0                 0   \n",
       "3                  0.0       0         0       0         0                 0   \n",
       "4                  0.0       0         0       0         0                 0   \n",
       "...                ...     ...       ...     ...       ...               ...   \n",
       "5995               0.0       0         0       0         0                 0   \n",
       "5996               0.0       0         0       0         0                 0   \n",
       "5997               0.0       0         0       2     28672                 1   \n",
       "5998               0.0       0         0       0         0                 0   \n",
       "5999               3.0       0         0       0         0                 0   \n",
       "\n",
       "      rd_total_times  wr_total_times  flush_total_times  label  \n",
       "0                  0         3596349            4524778      1  \n",
       "1                  0               0                  0      1  \n",
       "2                  0               0                  0      1  \n",
       "3                  0               0                  0      1  \n",
       "4                  0               0                  0      1  \n",
       "...              ...             ...                ...    ...  \n",
       "5995               0               0                  0      0  \n",
       "5996               0               0                  0      0  \n",
       "5997               0          503895            2094439      0  \n",
       "5998               0               0                  0      0  \n",
       "5999               0               0                  0      0  \n",
       "\n",
       "[6000 rows x 14 columns]"
      ]
     },
     "execution_count": 4,
     "metadata": {},
     "output_type": "execute_result"
    }
   ],
   "source": [
    "#load and display dataset values\n",
    "dataset = pd.read_csv(\"Dataset/hpc_io_data.csv\")\n",
    "dataset.fillna(0, inplace = True)#replace missing values\n",
    "dataset"
   ]
  },
  {
   "cell_type": "code",
   "execution_count": null,
   "metadata": {},
   "outputs": [
    {
     "data": {
      "image/png": "[encoded data removed]",
      "text/plain": [
       "<Figure size 432x288 with 1 Axes>"
      ]
     },
     "metadata": {
      "needs_background": "light"
     },
     "output_type": "display_data"
    }
   ],
   "source": [
    "#find and plot graph of ransomware and benign from dataset where 0 label refers as benign and 1 refer as ransomware\n",
    "#plot labels in dataset\n",
    "labels, count = np.unique(dataset['label'], return_counts = True)\n",
    "labels = ['Benign', 'Ransomware']\n",
    "height = count\n",
    "bars = labels\n",
    "y_pos = np.arange(len(bars))\n",
    "plt.bar(y_pos, height)\n",
    "plt.xticks(y_pos, bars)\n",
    "plt.xlabel(\"Dataset Class Label Graph\")\n",
    "plt.ylabel(\"Count\")\n",
    "plt.show()"
   ]
  },
  {
   "cell_type": "code",
   "execution_count": null,
   "metadata": {},
   "outputs": [],
   "source": [
    "#dataset preprocessing such as normalization and shuffling\n",
    "#data = dataset.values\n",
    "#X = data[:,1:data.shape[1]-1]\n",
    "#Y = data[:,data.shape[1]-1]\n",
    "#Y = Y.astype(int)\n",
    "\n",
    "#indices = np.arange(X.shape[0])\n",
    "#np.random.shuffle(indices)#shuffle dataset values\n",
    "#X = X[indices]\n",
    "#Y = Y[indices]\n",
    "\n",
    "#scaler = MinMaxScaler((0,1))\n",
    "#X = scaler.fit_transform(X)#normalized or transform features\n",
    "#print(\"Normalized Features\")\n",
    "#print(X)"
   ]
  },
  {
   "cell_type": "code",
   "execution_count": null,
   "metadata": {},
   "outputs": [
    {
     "data": {
      "text/plain": [
       "Index(['instructions', 'LLC-stores', 'L1-icache-load-misses',\n",
       "       'branch-load-misses', 'node-load-misses', 'rd_req', 'rd_bytes',\n",
       "       'wr_req', 'wr_bytes', 'flush_operations', 'rd_total_times',\n",
       "       'wr_total_times', 'flush_total_times', 'label'],\n",
       "      dtype='object')"
      ]
     },
     "execution_count": 6,
     "metadata": {},
     "output_type": "execute_result"
    }
   ],
   "source": [
    "dataset.columns"
   ]
  },
  {
   "cell_type": "code",
   "execution_count": null,
   "metadata": {},
   "outputs": [],
   "source": [
    "X = dataset[['instructions', 'LLC-stores', 'L1-icache-load-misses',\n",
    "       'branch-load-misses', 'node-load-misses', 'rd_req', 'rd_bytes',\n",
    "       'wr_req', 'wr_bytes', 'flush_operations', 'rd_total_times',\n",
    "       'wr_total_times', 'flush_total_times']]\n",
    "Y = dataset['label']"
   ]
  },
  {
   "cell_type": "code",
   "execution_count": null,
   "metadata": {},
   "outputs": [
    {
     "name": "stdout",
     "output_type": "stream",
     "text": [
      "\n",
      "Dataset train & test split as 80% dataset for training and 20% for testing\n",
      "Training Size (80%): 4800\n",
      "Testing Size (20%): 1200\n",
      "\n"
     ]
    }
   ],
   "source": [
    "#split dataset into train and test\n",
    "X_train, X_test, y_train, y_test = train_test_split(X, Y, test_size=0.2)\n",
    "print()\n",
    "print(\"Dataset train & test split as 80% dataset for training and 20% for testing\")\n",
    "print(\"Training Size (80%): \"+str(X_train.shape[0])) #print training and test size\n",
    "print(\"Testing Size (20%): \"+str(X_test.shape[0]))\n",
    "print()"
   ]
  },
  {
   "cell_type": "code",
   "execution_count": null,
   "metadata": {},
   "outputs": [],
   "source": [
    "#define global variables to calculate and store accuracy and other metrics\n",
    "precision = []\n",
    "recall = []\n",
    "fscore = []\n",
    "accuracy = []\n",
    "\n",
    "ML_Model = []\n",
    "acc = []\n",
    "prec = []\n",
    "rec = []\n",
    "f1 = []\n",
    "\n",
    "#function to call for storing the results\n",
    "def storeResults(model, a,b,c,d):\n",
    "    ML_Model.append(model)\n",
    "    acc.append(round(a, 3))\n",
    "    prec.append(round(b, 3))\n",
    "    rec.append(round(c, 3))\n",
    "    f1.append(round(d, 3))"
   ]
  },
  {
   "cell_type": "code",
   "execution_count": null,
   "metadata": {},
   "outputs": [],
   "source": [
    "#function to calculate various metrics such as accuracy, precision etc\n",
    "def calculateMetrics(algorithm, predict, testY):\n",
    "    p = precision_score(testY, predict,average='macro') * 100\n",
    "    r = recall_score(testY, predict,average='macro') * 100\n",
    "    f = f1_score(testY, predict,average='macro') * 100\n",
    "    a = accuracy_score(testY,predict)*100     \n",
    "    print()\n",
    "    print(algorithm+' Accuracy  : '+str(a))\n",
    "    print(algorithm+' Precision   : '+str(p))\n",
    "    print(algorithm+' Recall      : '+str(r))\n",
    "    print(algorithm+' FMeasure    : '+str(f))    \n",
    "    accuracy.append(a)\n",
    "    precision.append(p)\n",
    "    recall.append(r)\n",
    "    fscore.append(f)\n",
    "    conf_matrix = confusion_matrix(testY, predict) \n",
    "    plt.figure(figsize =(5, 5)) \n",
    "    ax = sns.heatmap(conf_matrix, xticklabels = labels, yticklabels = labels, annot = True, cmap=\"viridis\" ,fmt =\"g\");\n",
    "    ax.set_ylim([0,len(labels)])\n",
    "    plt.title(algorithm+\" Confusion matrix\") \n",
    "    plt.ylabel('True class') \n",
    "    plt.xlabel('Predicted class') \n",
    "    plt.show()"
   ]
  },
  {
   "cell_type": "markdown",
   "metadata": {},
   "source": [
    "# SVM"
   ]
  },
  {
   "cell_type": "code",
   "execution_count": null,
   "metadata": {},
   "outputs": [
    {
     "name": "stdout",
     "output_type": "stream",
     "text": [
      "\n",
      "SVM Accuracy  : 59.333333333333336\n",
      "SVM Precision   : 75.76353066404651\n",
      "SVM Recall      : 60.497781336536214\n",
      "SVM FMeasure    : 52.883018576449224\n"
     ]
    },
    {
     "data": {
      "image/png": "[encoded data removed]",
      "text/plain": [
       "<Figure size 360x360 with 2 Axes>"
      ]
     },
     "metadata": {
      "needs_background": "light"
     },
     "output_type": "display_data"
    }
   ],
   "source": [
    "#now train SVM algorithm on training features and then test on testing features to calculate accuracy and other metrics\n",
    "svm_cls = svm.SVC(kernel=\"poly\", gamma=\"scale\", C=0.004)\n",
    "svm_cls.fit(X_train, y_train)\n",
    "predict = svm_cls.predict(X_test)\n",
    "calculateMetrics(\"SVM\", predict, y_test)"
   ]
  },
  {
   "cell_type": "code",
   "execution_count": null,
   "metadata": {},
   "outputs": [],
   "source": [
    "svm_acc = accuracy_score(predict, y_test)\n",
    "svm_prec = precision_score(predict, y_test,average='macro')\n",
    "svm_rec = recall_score(predict, y_test,average='macro')\n",
    "svm_f1 = f1_score(predict, y_test,average='macro')\n",
    "\n",
    "storeResults('SVM',svm_acc,svm_prec,svm_rec,svm_f1)"
   ]
  },
  {
   "cell_type": "markdown",
   "metadata": {},
   "source": [
    "# KNN"
   ]
  },
  {
   "cell_type": "code",
   "execution_count": null,
   "metadata": {},
   "outputs": [
    {
     "name": "stdout",
     "output_type": "stream",
     "text": [
      "\n",
      "KNN Accuracy  : 90.41666666666667\n",
      "KNN Precision   : 90.46816422153734\n",
      "KNN Recall      : 90.48560371000566\n",
      "KNN FMeasure    : 90.4165002864633\n"
     ]
    },
    {
     "data": {
      "image/png": "[encoded data removed]",
      "text/plain": [
       "<Figure size 360x360 with 2 Axes>"
      ]
     },
     "metadata": {
      "needs_background": "light"
     },
     "output_type": "display_data"
    }
   ],
   "source": [
    "#now training KNN algorithm\n",
    "knn_cls =  KNeighborsClassifier(n_neighbors=500)\n",
    "knn_cls.fit(X_train, y_train)\n",
    "predict = knn_cls.predict(X_test)\n",
    "calculateMetrics(\"KNN\", predict, y_test)"
   ]
  },
  {
   "cell_type": "code",
   "execution_count": null,
   "metadata": {},
   "outputs": [],
   "source": [
    "knn_acc = accuracy_score(predict, y_test)\n",
    "knn_prec = precision_score(predict, y_test,average='macro')\n",
    "knn_rec = recall_score(predict, y_test,average='macro')\n",
    "knn_f1 = f1_score(predict, y_test,average='macro')\n",
    "\n",
    "storeResults('KNN',knn_acc,knn_prec,knn_rec,knn_f1)"
   ]
  },
  {
   "cell_type": "markdown",
   "metadata": {},
   "source": [
    "# Decision Tree"
   ]
  },
  {
   "cell_type": "code",
   "execution_count": null,
   "metadata": {},
   "outputs": [
    {
     "name": "stdout",
     "output_type": "stream",
     "text": [
      "\n",
      "Decision Tree Accuracy  : 88.5\n",
      "Decision Tree Precision   : 89.10492717137205\n",
      "Decision Tree Recall      : 88.69482534280853\n",
      "Decision Tree FMeasure    : 88.48307652077636\n"
     ]
    },
    {
     "data": {
      "image/png": "[encoded data removed]",
      "text/plain": [
       "<Figure size 360x360 with 2 Axes>"
      ]
     },
     "metadata": {
      "needs_background": "light"
     },
     "output_type": "display_data"
    }
   ],
   "source": [
    "#now train decision tree classifier with hyper parameters\n",
    "dt_cls = DecisionTreeClassifier(criterion = \"entropy\",max_leaf_nodes=2,max_features=\"auto\")#giving hyper input parameter values\n",
    "dt_cls.fit(X_train, y_train)\n",
    "predict = dt_cls.predict(X_test)\n",
    "calculateMetrics(\"Decision Tree\", predict, y_test)"
   ]
  },
  {
   "cell_type": "code",
   "execution_count": null,
   "metadata": {},
   "outputs": [],
   "source": [
    "dt_acc = accuracy_score(predict, y_test)\n",
    "dt_prec = precision_score(predict, y_test,average='macro')\n",
    "dt_rec = recall_score(predict, y_test,average='macro')\n",
    "dt_f1 = f1_score(predict, y_test,average='macro')\n",
    "\n",
    "storeResults('Decision Tree',dt_acc,dt_prec,dt_rec,dt_f1)"
   ]
  },
  {
   "cell_type": "markdown",
   "metadata": {},
   "source": [
    "# Random Forest"
   ]
  },
  {
   "cell_type": "code",
   "execution_count": null,
   "metadata": {},
   "outputs": [
    {
     "name": "stdout",
     "output_type": "stream",
     "text": [
      "\n",
      "Random Forest Accuracy  : 98.5\n",
      "Random Forest Precision   : 98.4944849670877\n",
      "Random Forest Recall      : 98.50365328795915\n",
      "Random Forest FMeasure    : 98.49879486587845\n"
     ]
    },
    {
     "data": {
      "image/png": "[encoded data removed]",
      "text/plain": [
       "<Figure size 360x360 with 2 Axes>"
      ]
     },
     "metadata": {
      "needs_background": "light"
     },
     "output_type": "display_data"
    }
   ],
   "source": [
    "#training random Forest algortihm\n",
    "rf = RandomForestClassifier(n_estimators=40, criterion='gini', max_features=\"log2\", min_weight_fraction_leaf=0.3)\n",
    "rf.fit(X_train, y_train)\n",
    "predict = rf.predict(X_test)\n",
    "calculateMetrics(\"Random Forest\", predict, y_test)"
   ]
  },
  {
   "cell_type": "code",
   "execution_count": null,
   "metadata": {},
   "outputs": [],
   "source": [
    "rf_acc = accuracy_score(predict, y_test)\n",
    "rf_prec = precision_score(predict, y_test,average='macro')\n",
    "rf_rec = recall_score(predict, y_test,average='macro')\n",
    "rf_f1 = f1_score(predict, y_test,average='macro')\n",
    "\n",
    "storeResults('Random Froest',rf_acc,rf_prec,rf_rec,rf_f1)"
   ]
  },
  {
   "cell_type": "markdown",
   "metadata": {},
   "source": [
    "# XGBoost"
   ]
  },
  {
   "cell_type": "code",
   "execution_count": null,
   "metadata": {},
   "outputs": [
    {
     "name": "stdout",
     "output_type": "stream",
     "text": [
      "\n",
      "XGBoost Accuracy  : 99.16666666666667\n",
      "XGBoost Precision   : 99.20382165605095\n",
      "XGBoost Recall      : 99.14089347079039\n",
      "XGBoost FMeasure    : 99.16544032759249\n"
     ]
    },
    {
     "data": {
      "image/png": "[encoded data removed]",
      "text/plain": [
       "<Figure size 360x360 with 2 Axes>"
      ]
     },
     "metadata": {
      "needs_background": "light"
     },
     "output_type": "display_data"
    }
   ],
   "source": [
    "#now train XGBoost algorithm\n",
    "xgb_cls = XGBClassifier(n_estimators=10,learning_rate=0.09,max_depth=2)\n",
    "xgb_cls.fit(X_train, y_train)\n",
    "predict = xgb_cls.predict(X_test)\n",
    "calculateMetrics(\"XGBoost\", predict, y_test)"
   ]
  },
  {
   "cell_type": "code",
   "execution_count": null,
   "metadata": {},
   "outputs": [],
   "source": [
    "rf_acc = accuracy_score(predict, y_test)\n",
    "rf_prec = precision_score(predict, y_test,average='macro')\n",
    "rf_rec = recall_score(predict, y_test,average='macro')\n",
    "rf_f1 = f1_score(predict, y_test,average='macro')\n",
    "\n",
    "storeResults('XGBoost',rf_acc,rf_prec,rf_rec,rf_f1)"
   ]
  },
  {
   "cell_type": "markdown",
   "metadata": {},
   "source": [
    "# Voting Classifier"
   ]
  },
  {
   "cell_type": "code",
   "execution_count": null,
   "metadata": {},
   "outputs": [
    {
     "name": "stdout",
     "output_type": "stream",
     "text": [
      "\n",
      "Voting Classifier Accuracy  : 99.5\n",
      "Voting Classifier Precision   : 99.49194561483475\n",
      "Voting Classifier Recall      : 99.50955860274246\n",
      "Voting Classifier FMeasure    : 99.499644191425\n"
     ]
    },
    {
     "data": {
      "image/png": "[encoded data removed]",
      "text/plain": [
       "<Figure size 360x360 with 2 Axes>"
      ]
     },
     "metadata": {
      "needs_background": "light"
     },
     "output_type": "display_data"
    }
   ],
   "source": [
    "from sklearn.ensemble import RandomForestClassifier, VotingClassifier, AdaBoostClassifier\n",
    "clf1 = AdaBoostClassifier(n_estimators=10, random_state=0)\n",
    "clf2 = RandomForestClassifier(n_estimators=5, random_state=1)\n",
    "\n",
    "eclf = VotingClassifier(estimators=[('ad', clf1), ('rf', clf2)], voting='soft')\n",
    "eclf.fit(X_train, y_train)\n",
    "\n",
    "predict = eclf.predict(X_test)\n",
    "calculateMetrics(\"Voting Classifier\", predict, y_test)"
   ]
  },
  {
   "cell_type": "code",
   "execution_count": null,
   "metadata": {},
   "outputs": [],
   "source": [
    "rf_acc = accuracy_score(predict, y_test)\n",
    "rf_prec = precision_score(predict, y_test,average='macro')\n",
    "rf_rec = recall_score(predict, y_test,average='macro')\n",
    "rf_f1 = f1_score(predict, y_test,average='macro')\n",
    "\n",
    "storeResults('Voting Classifier',rf_acc,rf_prec,rf_rec,rf_f1)"
   ]
  },
  {
   "cell_type": "markdown",
   "metadata": {},
   "source": [
    "# DNN"
   ]
  },
  {
   "cell_type": "code",
   "execution_count": null,
   "metadata": {},
   "outputs": [
    {
     "name": "stdout",
     "output_type": "stream",
     "text": [
      "Epoch 1/10\n",
      "150/150 [==============================] - 11s 5ms/step - loss: 3540.8101 - accuracy: 0.6033 - val_loss: 0.6087 - val_accuracy: 0.6017\n",
      "Epoch 2/10\n",
      "150/150 [==============================] - 0s 3ms/step - loss: 1624.2755 - accuracy: 0.5816 - val_loss: 0.6211 - val_accuracy: 0.5850\n",
      "Epoch 3/10\n",
      "150/150 [==============================] - 0s 3ms/step - loss: 0.6419 - accuracy: 0.5702 - val_loss: 0.6211 - val_accuracy: 0.5850\n",
      "Epoch 4/10\n",
      "150/150 [==============================] - 0s 3ms/step - loss: 0.6365 - accuracy: 0.5813 - val_loss: 0.6211 - val_accuracy: 0.5850\n",
      "Epoch 5/10\n",
      "150/150 [==============================] - 0s 3ms/step - loss: 0.6414 - accuracy: 0.5747 - val_loss: 0.6211 - val_accuracy: 0.5850\n",
      "Epoch 6/10\n",
      "150/150 [==============================] - 0s 3ms/step - loss: 0.6341 - accuracy: 0.5898 - val_loss: 0.6211 - val_accuracy: 0.5850\n",
      "Epoch 7/10\n",
      "150/150 [==============================] - 0s 3ms/step - loss: 0.6420 - accuracy: 0.5751 - val_loss: 0.6211 - val_accuracy: 0.5850\n",
      "Epoch 8/10\n",
      "150/150 [==============================] - 0s 3ms/step - loss: 0.6417 - accuracy: 0.5688 - val_loss: 0.6211 - val_accuracy: 0.5850\n",
      "Epoch 9/10\n",
      "150/150 [==============================] - 0s 3ms/step - loss: 0.6390 - accuracy: 0.5785 - val_loss: 0.6211 - val_accuracy: 0.5850\n",
      "Epoch 10/10\n",
      "150/150 [==============================] - 0s 3ms/step - loss: 0.6468 - accuracy: 0.5638 - val_loss: 0.6211 - val_accuracy: 0.5850\n"
     ]
    }
   ],
   "source": [
    "#train DNN algortihm\n",
    "y_train1 = to_categorical(y_train)\n",
    "y_test1 = to_categorical(y_test)\n",
    "#define DNN object\n",
    "dnn_model = Sequential()\n",
    "#add DNN layers\n",
    "dnn_model.add(Dense(2, input_shape=(X_train.shape[1],), activation='relu'))\n",
    "dnn_model.add(Dense(2, activation='relu'))\n",
    "dnn_model.add(Dropout(0.3))\n",
    "dnn_model.add(Dense(y_train1.shape[1], activation='softmax'))\n",
    "# compile the keras model\n",
    "dnn_model.compile(loss='categorical_crossentropy', optimizer='adam', metrics=['accuracy'])\n",
    "#start training model on train data and perform validation on test data\n",
    "#train and load the model\n",
    "#if os.path.exists(\"model/dnn_weights.hdf5\") == False:\n",
    "   # model_check_point = ModelCheckpoint(filepath='model/dnn_weights.hdf5', verbose = 1, save_best_only = True)\n",
    "hist = dnn_model.fit(X_train, y_train1, batch_size = 32, epochs = 10, validation_data=(X_test, y_test1),  verbose=1)\n",
    "   # f = open('model/dnn_history.pckl', 'wb')\n",
    "   # pickle.dump(hist.history, f)\n",
    "  #  f.close()    \n",
    "#else:\n",
    "   # dnn_model.load_weights(\"model/dnn_weights.hdf5\")\n",
    "#perform prediction on test data    \n",
    "\n"
   ]
  },
  {
   "cell_type": "code",
   "execution_count": null,
   "metadata": {},
   "outputs": [
    {
     "name": "stdout",
     "output_type": "stream",
     "text": [
      "\n",
      "DNN Accuracy  : 58.5\n",
      "DNN Precision   : 76.94444444444444\n",
      "DNN Recall      : 59.70873786407766\n",
      "DNN FMeasure    : 51.27821314314227\n"
     ]
    },
    {
     "data": {
      "image/png": "[encoded data removed]",
      "text/plain": [
       "<Figure size 360x360 with 2 Axes>"
      ]
     },
     "metadata": {
      "needs_background": "light"
     },
     "output_type": "display_data"
    }
   ],
   "source": [
    "predict = dnn_model.predict(X_test)\n",
    "predict = np.argmax(predict, axis=1)\n",
    "testY = np.argmax(y_test1, axis=1)\n",
    "calculateMetrics(\"DNN\", predict, testY)#call function to calculate accuracy and other metrics"
   ]
  },
  {
   "cell_type": "code",
   "execution_count": null,
   "metadata": {},
   "outputs": [],
   "source": [
    "rf_acc = accuracy_score(predict, testY)\n",
    "rf_prec = precision_score(predict, testY,average='macro')\n",
    "rf_rec = recall_score(predict, testY,average='macro')\n",
    "rf_f1 = f1_score(predict, testY,average='macro')\n",
    "\n",
    "storeResults('DNN',rf_acc,rf_prec,rf_rec,rf_f1)"
   ]
  },
  {
   "cell_type": "markdown",
   "metadata": {},
   "source": [
    "# LSTM"
   ]
  },
  {
   "cell_type": "code",
   "execution_count": null,
   "metadata": {},
   "outputs": [],
   "source": [
    "X_train = X_train.values\n",
    "X_test = X_test.values"
   ]
  },
  {
   "cell_type": "code",
   "execution_count": null,
   "metadata": {},
   "outputs": [],
   "source": [
    "#now train LSTM algorithm\n",
    "X_train1 = np.reshape(X_train, (X_train.shape[0], X_train.shape[1], 1))\n",
    "X_test1 = np.reshape(X_test, (X_test.shape[0], X_test.shape[1], 1))"
   ]
  },
  {
   "cell_type": "code",
   "execution_count": null,
   "metadata": {},
   "outputs": [
    {
     "name": "stdout",
     "output_type": "stream",
     "text": [
      "Epoch 1/10\n",
      "150/150 [==============================] - 5s 7ms/step - loss: 0.4540 - accuracy: 0.8317 - val_loss: 0.2058 - val_accuracy: 0.9233\n",
      "Epoch 2/10\n",
      "150/150 [==============================] - 1s 4ms/step - loss: 0.2101 - accuracy: 0.9210 - val_loss: 0.1451 - val_accuracy: 0.9592\n",
      "Epoch 3/10\n",
      "150/150 [==============================] - 1s 4ms/step - loss: 0.1625 - accuracy: 0.9481 - val_loss: 0.1400 - val_accuracy: 0.9600\n",
      "Epoch 4/10\n",
      "150/150 [==============================] - 1s 4ms/step - loss: 0.1648 - accuracy: 0.9449 - val_loss: 0.1482 - val_accuracy: 0.9508\n",
      "Epoch 5/10\n",
      "150/150 [==============================] - 1s 4ms/step - loss: 0.1639 - accuracy: 0.9431 - val_loss: 0.1521 - val_accuracy: 0.9492\n",
      "Epoch 6/10\n",
      "150/150 [==============================] - 1s 4ms/step - loss: 0.1573 - accuracy: 0.9453 - val_loss: 0.1422 - val_accuracy: 0.9542\n",
      "Epoch 7/10\n",
      "150/150 [==============================] - 1s 4ms/step - loss: 0.1500 - accuracy: 0.9497 - val_loss: 0.1371 - val_accuracy: 0.9550\n",
      "Epoch 8/10\n",
      "150/150 [==============================] - 1s 4ms/step - loss: 0.1399 - accuracy: 0.9570 - val_loss: 0.1332 - val_accuracy: 0.9583\n",
      "Epoch 9/10\n",
      "150/150 [==============================] - 1s 4ms/step - loss: 0.1576 - accuracy: 0.9467 - val_loss: 0.1431 - val_accuracy: 0.9525\n",
      "Epoch 10/10\n",
      "150/150 [==============================] - 1s 4ms/step - loss: 0.1537 - accuracy: 0.9514 - val_loss: 0.1393 - val_accuracy: 0.9600\n"
     ]
    }
   ],
   "source": [
    "lstm_model = Sequential()#defining deep learning sequential object\n",
    "#adding LSTM layer with 100 filters to filter given input X train data to select relevant features\n",
    "lstm_model.add(LSTM(32,input_shape=(X_train1.shape[1], X_train1.shape[2])))\n",
    "#adding dropout layer to remove irrelevant features\n",
    "lstm_model.add(Dropout(0.2))\n",
    "#adding another layer\n",
    "lstm_model.add(Dense(32, activation='relu'))\n",
    "#defining output layer for prediction\n",
    "lstm_model.add(Dense(y_train1.shape[1], activation='softmax'))\n",
    "#compile LSTM model\n",
    "lstm_model.compile(loss='categorical_crossentropy', optimizer='adam', metrics=['accuracy'])\n",
    "#start training model on train data and perform validation on test data\n",
    "#train and load the model\n",
    "#if os.path.exists(\"model/lstm_weights.hdf5\") == False:\n",
    "    #model_check_point = ModelCheckpoint(filepath='model/lstm_weights.hdf5', verbose = 1, save_best_only = True)\n",
    "hist = lstm_model.fit(X_train1, y_train1, batch_size = 32, epochs = 10, validation_data=(X_test1, y_test1), verbose=1)\n",
    "    #f = open('model/lstm_history.pckl', 'wb')\n",
    "    #pickle.dump(hist.history, f)\n",
    "    #f.close()    \n",
    "#else:\n",
    "   # lstm_model.load_weights(\"model/lstm_weights.hdf5\")\n",
    "#perform prediction on test data    \n"
   ]
  },
  {
   "cell_type": "code",
   "execution_count": null,
   "metadata": {},
   "outputs": [
    {
     "name": "stdout",
     "output_type": "stream",
     "text": [
      "\n",
      "LSTM Accuracy  : 96.0\n",
      "LSTM Precision   : 96.0600771531167\n",
      "LSTM Recall      : 96.07646882193974\n",
      "LSTM FMeasure    : 95.99995555506172\n"
     ]
    },
    {
     "data": {
      "image/png": "[encoded data removed]",
      "text/plain": [
       "<Figure size 360x360 with 2 Axes>"
      ]
     },
     "metadata": {
      "needs_background": "light"
     },
     "output_type": "display_data"
    }
   ],
   "source": [
    "predict = lstm_model.predict(X_test1)\n",
    "predict = np.argmax(predict, axis=1)\n",
    "testY = np.argmax(y_test1, axis=1)\n",
    "calculateMetrics(\"LSTM\", predict, testY)#call function to calculate accuracy and other metrics"
   ]
  },
  {
   "cell_type": "code",
   "execution_count": null,
   "metadata": {},
   "outputs": [],
   "source": [
    "rf_acc = accuracy_score(predict, testY)\n",
    "rf_prec = precision_score(predict, testY,average='macro')\n",
    "rf_rec = recall_score(predict, testY,average='macro')\n",
    "rf_f1 = f1_score(predict, testY,average='macro')\n",
    "\n",
    "storeResults('LSTM',rf_acc,rf_prec,rf_rec,rf_f1)"
   ]
  },
  {
   "cell_type": "markdown",
   "metadata": {},
   "source": [
    "# CNN"
   ]
  },
  {
   "cell_type": "code",
   "execution_count": null,
   "metadata": {},
   "outputs": [],
   "source": [
    "#now train extension CNN algorithm\n",
    "X_train1 = np.reshape(X_train, (X_train.shape[0], X_train.shape[1], 1, 1))\n",
    "X_test1 = np.reshape(X_test, (X_test.shape[0], X_test.shape[1], 1, 1))"
   ]
  },
  {
   "cell_type": "code",
   "execution_count": null,
   "metadata": {},
   "outputs": [
    {
     "name": "stdout",
     "output_type": "stream",
     "text": [
      "Epoch 1/10\n",
      "600/600 [==============================] - 5s 4ms/step - loss: 100982.5055 - accuracy: 0.8737 - val_loss: 0.1938 - val_accuracy: 0.9350\n",
      "Epoch 2/10\n",
      "600/600 [==============================] - 2s 4ms/step - loss: 0.1772 - accuracy: 0.9376 - val_loss: 0.1581 - val_accuracy: 0.9350\n",
      "Epoch 3/10\n",
      "600/600 [==============================] - 2s 4ms/step - loss: 0.1638 - accuracy: 0.9441 - val_loss: 0.1487 - val_accuracy: 0.9525\n",
      "Epoch 4/10\n",
      "600/600 [==============================] - 2s 4ms/step - loss: 0.1509 - accuracy: 0.9462 - val_loss: 0.1400 - val_accuracy: 0.9583\n",
      "Epoch 5/10\n",
      "600/600 [==============================] - 2s 4ms/step - loss: 0.1559 - accuracy: 0.9465 - val_loss: 0.1357 - val_accuracy: 0.9550\n",
      "Epoch 6/10\n",
      "600/600 [==============================] - 2s 4ms/step - loss: 0.1413 - accuracy: 0.9521 - val_loss: 0.1399 - val_accuracy: 0.9592\n",
      "Epoch 7/10\n",
      "600/600 [==============================] - 2s 4ms/step - loss: 0.1476 - accuracy: 0.9547 - val_loss: 0.1340 - val_accuracy: 0.9558\n",
      "Epoch 8/10\n",
      "600/600 [==============================] - 2s 4ms/step - loss: 0.1483 - accuracy: 0.9468 - val_loss: 0.1570 - val_accuracy: 0.9525\n",
      "Epoch 9/10\n",
      "600/600 [==============================] - 2s 4ms/step - loss: 0.1587 - accuracy: 0.9468 - val_loss: 0.1313 - val_accuracy: 0.9567\n",
      "Epoch 10/10\n",
      "600/600 [==============================] - 2s 4ms/step - loss: 0.1416 - accuracy: 0.9505 - val_loss: 0.1315 - val_accuracy: 0.9558\n"
     ]
    }
   ],
   "source": [
    "\n",
    "#define extension CNN model object\n",
    "cnn_model = Sequential()\n",
    "#adding CNN layer wit 32 filters to optimized dataset features using 32 neurons\n",
    "cnn_model.add(Convolution2D(64, (1, 1), input_shape = (X_train1.shape[1], X_train1.shape[2], X_train1.shape[3]), activation = 'relu'))\n",
    "#adding maxpooling layer to collect filtered relevant features from previous CNN layer\n",
    "cnn_model.add(MaxPooling2D(pool_size = (1, 1)))\n",
    "#adding another CNN layer to further filtered features\n",
    "cnn_model.add(Convolution2D(32, (1, 1), activation = 'relu'))\n",
    "cnn_model.add(MaxPooling2D(pool_size = (1, 1)))\n",
    "#collect relevant filtered features\n",
    "cnn_model.add(Flatten())\n",
    "cnn_model.add(Dropout(0.2))\n",
    "#defining output layers\n",
    "cnn_model.add(Dense(units = 256, activation = 'relu'))\n",
    "#defining prediction layer with Y target data\n",
    "cnn_model.add(Dense(units = y_train1.shape[1], activation = 'softmax'))\n",
    "#compile the CNN with LSTM model\n",
    "cnn_model.compile(optimizer = 'adam', loss = 'categorical_crossentropy', metrics = ['accuracy'])\n",
    "#train and load the model\n",
    "#if os.path.exists(\"model/cnn_weights.hdf5\") == False:\n",
    "   # model_check_point = ModelCheckpoint(filepath='model/cnn_weights.hdf5', verbose = 1, save_best_only = True)\n",
    "hist = cnn_model.fit(X_train1, y_train1, batch_size = 8, epochs = 10, validation_data=(X_test1, y_test1), verbose=1)\n",
    "   # f = open('model/cnn_history.pckl', 'wb')\n",
    "   # pickle.dump(hist.history, f)\n",
    "   # f.close()    \n",
    "#else:\n",
    "    #cnn_model.load_weights(\"model/cnn_weights.hdf5\")\n",
    "#perform prediction on test data        "
   ]
  },
  {
   "cell_type": "code",
   "execution_count": null,
   "metadata": {},
   "outputs": [
    {
     "name": "stdout",
     "output_type": "stream",
     "text": [
      "\n",
      "Extension CNN2D Accuracy  : 95.58333333333333\n",
      "Extension CNN2D Precision   : 95.70799869808691\n",
      "Extension CNN2D Recall      : 95.68194708571048\n",
      "Extension CNN2D FMeasure    : 95.58325665376135\n"
     ]
    },
    {
     "data": {
      "image/png": "[encoded data removed]",
      "text/plain": [
       "<Figure size 360x360 with 2 Axes>"
      ]
     },
     "metadata": {
      "needs_background": "light"
     },
     "output_type": "display_data"
    }
   ],
   "source": [
    "predict = cnn_model.predict(X_test1)\n",
    "predict = np.argmax(predict, axis=1)\n",
    "testY = np.argmax(y_test1, axis=1)\n",
    "calculateMetrics(\"Extension CNN2D\", predict, testY)#call function to calculate accuracy and other metrics"
   ]
  },
  {
   "cell_type": "code",
   "execution_count": null,
   "metadata": {},
   "outputs": [],
   "source": [
    "rf_acc = accuracy_score(predict, testY)\n",
    "rf_prec = precision_score(predict, testY,average='macro')\n",
    "rf_rec = recall_score(predict, testY,average='macro')\n",
    "rf_f1 = f1_score(predict, testY,average='macro')\n",
    "\n",
    "storeResults('Extension CNN2D',rf_acc,rf_prec,rf_rec,rf_f1)"
   ]
  },
  {
   "cell_type": "markdown",
   "metadata": {},
   "source": [
    "# Comparison"
   ]
  },
  {
   "cell_type": "code",
   "execution_count": null,
   "metadata": {},
   "outputs": [],
   "source": [
    "#creating dataframe\n",
    "result = pd.DataFrame({ 'ML Model' : ML_Model,\n",
    "                        'Accuracy' : acc,\n",
    "                       'Precision': prec,\n",
    "                       'Recall'   : rec,\n",
    "                        'f1_score' : f1,\n",
    "                      })"
   ]
  },
  {
   "cell_type": "code",
   "execution_count": null,
   "metadata": {},
   "outputs": [
    {
     "data": {
      "text/html": [
       "<div>\n",
       "<style scoped>\n",
       "    .dataframe tbody tr th:only-of-type {\n",
       "        vertical-align: middle;\n",
       "    }\n",
       "\n",
       "    .dataframe tbody tr th {\n",
       "        vertical-align: top;\n",
       "    }\n",
       "\n",
       "    .dataframe thead th {\n",
       "        text-align: right;\n",
       "    }\n",
       "</style>\n",
       "<table border=\"1\" class=\"dataframe\">\n",
       "  <thead>\n",
       "    <tr style=\"text-align: right;\">\n",
       "      <th></th>\n",
       "      <th>ML Model</th>\n",
       "      <th>Accuracy</th>\n",
       "      <th>Precision</th>\n",
       "      <th>Recall</th>\n",
       "      <th>f1_score</th>\n",
       "    </tr>\n",
       "  </thead>\n",
       "  <tbody>\n",
       "    <tr>\n",
       "      <th>0</th>\n",
       "      <td>SVM</td>\n",
       "      <td>0.593</td>\n",
       "      <td>0.605</td>\n",
       "      <td>0.758</td>\n",
       "      <td>0.529</td>\n",
       "    </tr>\n",
       "    <tr>\n",
       "      <th>1</th>\n",
       "      <td>KNN</td>\n",
       "      <td>0.904</td>\n",
       "      <td>0.905</td>\n",
       "      <td>0.905</td>\n",
       "      <td>0.904</td>\n",
       "    </tr>\n",
       "    <tr>\n",
       "      <th>2</th>\n",
       "      <td>Decision Tree</td>\n",
       "      <td>0.885</td>\n",
       "      <td>0.887</td>\n",
       "      <td>0.891</td>\n",
       "      <td>0.885</td>\n",
       "    </tr>\n",
       "    <tr>\n",
       "      <th>3</th>\n",
       "      <td>Random Froest</td>\n",
       "      <td>0.985</td>\n",
       "      <td>0.985</td>\n",
       "      <td>0.985</td>\n",
       "      <td>0.985</td>\n",
       "    </tr>\n",
       "    <tr>\n",
       "      <th>4</th>\n",
       "      <td>XGBoost</td>\n",
       "      <td>0.992</td>\n",
       "      <td>0.991</td>\n",
       "      <td>0.992</td>\n",
       "      <td>0.992</td>\n",
       "    </tr>\n",
       "    <tr>\n",
       "      <th>5</th>\n",
       "      <td>Voting Classifier</td>\n",
       "      <td>0.995</td>\n",
       "      <td>0.995</td>\n",
       "      <td>0.995</td>\n",
       "      <td>0.995</td>\n",
       "    </tr>\n",
       "    <tr>\n",
       "      <th>6</th>\n",
       "      <td>DNN</td>\n",
       "      <td>0.585</td>\n",
       "      <td>0.597</td>\n",
       "      <td>0.769</td>\n",
       "      <td>0.513</td>\n",
       "    </tr>\n",
       "    <tr>\n",
       "      <th>7</th>\n",
       "      <td>LSTM</td>\n",
       "      <td>0.960</td>\n",
       "      <td>0.961</td>\n",
       "      <td>0.961</td>\n",
       "      <td>0.960</td>\n",
       "    </tr>\n",
       "    <tr>\n",
       "      <th>8</th>\n",
       "      <td>Extension CNN2D</td>\n",
       "      <td>0.956</td>\n",
       "      <td>0.957</td>\n",
       "      <td>0.957</td>\n",
       "      <td>0.956</td>\n",
       "    </tr>\n",
       "  </tbody>\n",
       "</table>\n",
       "</div>"
      ],
      "text/plain": [
       "            ML Model  Accuracy  Precision  Recall  f1_score\n",
       "0                SVM     0.593      0.605   0.758     0.529\n",
       "1                KNN     0.904      0.905   0.905     0.904\n",
       "2      Decision Tree     0.885      0.887   0.891     0.885\n",
       "3      Random Froest     0.985      0.985   0.985     0.985\n",
       "4            XGBoost     0.992      0.991   0.992     0.992\n",
       "5  Voting Classifier     0.995      0.995   0.995     0.995\n",
       "6                DNN     0.585      0.597   0.769     0.513\n",
       "7               LSTM     0.960      0.961   0.961     0.960\n",
       "8    Extension CNN2D     0.956      0.957   0.957     0.956"
      ]
     },
     "execution_count": 41,
     "metadata": {},
     "output_type": "execute_result"
    }
   ],
   "source": [
    "result"
   ]
  },
  {
   "cell_type": "markdown",
   "metadata": {},
   "source": [
    "# Modelling"
   ]
  },
  {
   "cell_type": "code",
   "execution_count": null,
   "metadata": {},
   "outputs": [
    {
     "data": {
      "text/plain": [
       "['model.sav']"
      ]
     },
     "execution_count": 43,
     "metadata": {},
     "output_type": "execute_result"
    }
   ],
   "source": [
    "import joblib\n",
    "filename = 'model.sav'\n",
    "joblib.dump(eclf, filename)"
   ]
  },
  {
   "cell_type": "markdown",
   "metadata": {},
   "source": [
    "# Graph"
   ]
  },
  {
   "cell_type": "code",
   "execution_count": null,
   "metadata": {},
   "outputs": [],
   "source": [
    "classifier = ML_Model\n",
    "y_pos = np.arange(len(classifier))"
   ]
  },
  {
   "cell_type": "markdown",
   "metadata": {},
   "source": [
    "# Accuracy"
   ]
  },
  {
   "cell_type": "code",
   "execution_count": null,
   "metadata": {},
   "outputs": [
    {
     "data": {
      "image/png": "[encoded data removed]",
      "text/plain": [
       "<Figure size 432x288 with 1 Axes>"
      ]
     },
     "metadata": {
      "needs_background": "light"
     },
     "output_type": "display_data"
    }
   ],
   "source": [
    "import matplotlib.pyplot as plt2\n",
    "plt2.barh(y_pos, acc, align='center', alpha=0.5,color='blue')\n",
    "plt2.yticks(y_pos, classifier)\n",
    "plt2.xlabel('Accuracy Score')\n",
    "plt2.title('Classification Performance')\n",
    "plt2.show()"
   ]
  },
  {
   "cell_type": "markdown",
   "metadata": {},
   "source": [
    "# Precision"
   ]
  },
  {
   "cell_type": "code",
   "execution_count": null,
   "metadata": {},
   "outputs": [
    {
     "data": {
      "image/png": "[encoded data removed]",
      "text/plain": [
       "<Figure size 432x288 with 1 Axes>"
      ]
     },
     "metadata": {
      "needs_background": "light"
     },
     "output_type": "display_data"
    }
   ],
   "source": [
    "plt2.barh(y_pos, prec, align='center', alpha=0.5,color='red')\n",
    "plt2.yticks(y_pos, classifier)\n",
    "plt2.xlabel('Precision Score')\n",
    "plt2.title('Classification Performance')\n",
    "plt2.show()"
   ]
  },
  {
   "cell_type": "markdown",
   "metadata": {},
   "source": [
    "# Recall"
   ]
  },
  {
   "cell_type": "code",
   "execution_count": null,
   "metadata": {},
   "outputs": [
    {
     "data": {
      "image/png": "[encoded data removed]",
      "text/plain": [
       "<Figure size 432x288 with 1 Axes>"
      ]
     },
     "metadata": {
      "needs_background": "light"
     },
     "output_type": "display_data"
    }
   ],
   "source": [
    "plt2.barh(y_pos, rec, align='center', alpha=0.5,color='yellow')\n",
    "plt2.yticks(y_pos, classifier)\n",
    "plt2.xlabel('Recall Score')\n",
    "plt2.title('Classification Performance')\n",
    "plt2.show()"
   ]
  },
  {
   "cell_type": "markdown",
   "metadata": {},
   "source": [
    "# F1 Score"
   ]
  },
  {
   "cell_type": "code",
   "execution_count": null,
   "metadata": {},
   "outputs": [
    {
     "data": {
      "image/png": "[encoded data removed]",
      "text/plain": [
       "<Figure size 432x288 with 1 Axes>"
      ]
     },
     "metadata": {
      "needs_background": "light"
     },
     "output_type": "display_data"
    }
   ],
   "source": [
    "plt2.barh(y_pos, f1, align='center', alpha=0.5,color='green')\n",
    "plt2.yticks(y_pos, classifier)\n",
    "plt2.xlabel('F1 Score')\n",
    "plt2.title('Classification Performance')\n",
    "plt2.show()"
   ]
  },
  {
   "cell_type": "code",
   "execution_count": null,
   "metadata": {},
   "outputs": [],
   "source": []
  }
 ],
 "metadata": {
  "kernelspec": {
   "display_name": "Python 3",
   "language": "python",
   "name": "python3"
  },
  "language_info": {
   "codemirror_mode": {
    "name": "ipython",
    "version": 3
   },
   "file_extension": ".py",
   "mimetype": "text/x-python",
   "name": "python",
   "nbconvert_exporter": "python",
   "pygments_lexer": "ipython3",
   "version": "3.7.4"
  }
 },
 "nbformat": 4,
 "nbformat_minor": 5
}
